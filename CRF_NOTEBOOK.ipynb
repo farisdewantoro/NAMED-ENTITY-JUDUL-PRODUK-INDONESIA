{
 "cells": [
  {
   "cell_type": "code",
   "execution_count": 1,
   "metadata": {},
   "outputs": [],
   "source": [
    "from server.nlp.CRF import NER\n",
    "import matplotlib.pyplot as plt"
   ]
  },
  {
   "cell_type": "code",
   "execution_count": 2,
   "metadata": {},
   "outputs": [],
   "source": [
    "ner = NER()"
   ]
  },
  {
   "cell_type": "code",
   "execution_count": 3,
   "metadata": {},
   "outputs": [
    {
     "name": "stdout",
     "output_type": "stream",
     "text": [
      "[{'bias': 1.0, 'word.lower():iphone': 1.0, 'word.isupper()': 0.0, 'word.istitle()': 0.0, 'word.isdigit()': 0.0, 'hasNumber': 0.0, 'word[-3:]:one': 1.0, 'word[:3]:iPh': 1.0, 'stopword': 0.0, 'postag:IN': 1.0, 'BOS': 1.0, '+1:word.lower():7': 1.0, '+1:word.istitle()': 0.0, '+1:word.isupper()': 0.0, '+1:word.isdigit()': 1.0, '+1:hasNumber': 1.0, '+1:stopword': 0.0, '+1:postag:CD': 1.0}, {'bias': 1.0, 'word.lower():7': 1.0, 'word.isupper()': 0.0, 'word.istitle()': 0.0, 'word.isdigit()': 1.0, 'hasNumber': 1.0, 'word[-3:]:7': 1.0, 'word[:3]:7': 1.0, 'stopword': 0.0, 'postag:CD': 1.0, '-1:word.lower():iphone': 1.0, '-1:word.istitle()': 0.0, '-1:word.isupper()': 0.0, '-1:word.isdigit()': 0.0, '-1:hasNumber': 0.0, '-1:stopword': 0.0, '-1:postag:IN': 1.0, '+1:word.lower():3gb': 1.0, '+1:word.istitle()': 0.0, '+1:word.isupper()': 1.0, '+1:word.isdigit()': 0.0, '+1:hasNumber': 1.0, '+1:stopword': 0.0, '+1:postag:CD': 1.0}, {'bias': 1.0, 'word.lower():3gb': 1.0, 'word.isupper()': 1.0, 'word.istitle()': 0.0, 'word.isdigit()': 0.0, 'hasNumber': 1.0, 'word[-3:]:3GB': 1.0, 'word[:3]:3GB': 1.0, 'stopword': 0.0, 'postag:CD': 1.0, '-1:word.lower():7': 1.0, '-1:word.istitle()': 0.0, '-1:word.isupper()': 0.0, '-1:word.isdigit()': 1.0, '-1:hasNumber': 1.0, '-1:stopword': 0.0, '-1:postag:CD': 1.0, '+1:word.lower():ios': 1.0, '+1:word.istitle()': 0.0, '+1:word.isupper()': 0.0, '+1:word.isdigit()': 0.0, '+1:hasNumber': 0.0, '+1:stopword': 0.0, '+1:postag:NN': 1.0}, {'bias': 1.0, 'word.lower():ios': 1.0, 'word.isupper()': 0.0, 'word.istitle()': 0.0, 'word.isdigit()': 0.0, 'hasNumber': 0.0, 'word[-3:]:iOS': 1.0, 'word[:3]:iOS': 1.0, 'stopword': 0.0, 'postag:NN': 1.0, '-1:word.lower():3gb': 1.0, '-1:word.istitle()': 0.0, '-1:word.isupper()': 1.0, '-1:word.isdigit()': 0.0, '-1:hasNumber': 1.0, '-1:stopword': 0.0, '-1:postag:CD': 1.0, '+1:word.lower():10': 1.0, '+1:word.istitle()': 0.0, '+1:word.isupper()': 0.0, '+1:word.isdigit()': 1.0, '+1:hasNumber': 1.0, '+1:stopword': 0.0, '+1:postag:CD': 1.0}, {'bias': 1.0, 'word.lower():10': 1.0, 'word.isupper()': 0.0, 'word.istitle()': 0.0, 'word.isdigit()': 1.0, 'hasNumber': 1.0, 'word[-3:]:10': 1.0, 'word[:3]:10': 1.0, 'stopword': 0.0, 'postag:CD': 1.0, '-1:word.lower():ios': 1.0, '-1:word.istitle()': 0.0, '-1:word.isupper()': 0.0, '-1:word.isdigit()': 0.0, '-1:hasNumber': 0.0, '-1:stopword': 0.0, '-1:postag:NN': 1.0, '+1:word.lower():gold': 1.0, '+1:word.istitle()': 1.0, '+1:word.isupper()': 0.0, '+1:word.isdigit()': 0.0, '+1:hasNumber': 0.0, '+1:stopword': 0.0, '+1:postag:NNP': 1.0}, {'bias': 1.0, 'word.lower():gold': 1.0, 'word.isupper()': 0.0, 'word.istitle()': 1.0, 'word.isdigit()': 0.0, 'hasNumber': 0.0, 'word[-3:]:old': 1.0, 'word[:3]:Gol': 1.0, 'stopword': 0.0, 'postag:NNP': 1.0, '-1:word.lower():10': 1.0, '-1:word.istitle()': 0.0, '-1:word.isupper()': 0.0, '-1:word.isdigit()': 1.0, '-1:hasNumber': 1.0, '-1:stopword': 0.0, '-1:postag:CD': 1.0, 'EOS': 1.0}]\n"
     ]
    },
    {
     "data": {
      "text/plain": [
       "CRF(algorithm='l2sgd', all_possible_states=None, all_possible_transitions=True,\n",
       "    averaging=None, c=None, c1=None, c2=None, calibration_candidates=None,\n",
       "    calibration_eta=0.01, calibration_max_trials=None, calibration_rate=0.1,\n",
       "    calibration_samples=None, delta=None, epsilon=None, error_sensitive=None,\n",
       "    gamma=None, keep_tempfiles=None, linesearch=None, max_iterations=1000,\n",
       "    max_linesearch=None, min_freq=None, model_filename=None, num_memories=None,\n",
       "    pa_type=None, period=None, trainer_cls=None, variance=None, verbose=True)"
      ]
     },
     "execution_count": 3,
     "metadata": {},
     "output_type": "execute_result"
    }
   ],
   "source": [
    "ner.train()"
   ]
  },
  {
   "cell_type": "code",
   "execution_count": 4,
   "metadata": {},
   "outputs": [
    {
     "data": {
      "text/plain": [
       "[[('O', 'Asus'),\n",
       "  ('O', 'A407UA'),\n",
       "  ('O', 'BV319T'),\n",
       "  ('O', 'Intel'),\n",
       "  ('O', 'Core'),\n",
       "  ('B-NAME', 'i3'),\n",
       "  ('B-CAPACITY', '7020U'),\n",
       "  ('B-CAPACITY', '4GB'),\n",
       "  ('O', '1Tb'),\n",
       "  ('B-NAME', '14'),\n",
       "  ('O', 'W10'),\n",
       "  ('O', 'Grey'),\n",
       "  ('O', 'Laptop'),\n",
       "  ('O', 'Murah'),\n",
       "  ('O', 'Gratis'),\n",
       "  ('O', 'Tas'),\n",
       "  ('O', 'Bergaransi')]]"
      ]
     },
     "execution_count": 4,
     "metadata": {},
     "output_type": "execute_result"
    }
   ],
   "source": [
    "ner.predict_single('Asus A407UA BV319T Intel Core i3 7020U 4GB 1Tb 14 W10 Grey Laptop Murah Gratis Tas Bergaransi')"
   ]
  },
  {
   "cell_type": "code",
   "execution_count": 8,
   "metadata": {},
   "outputs": [
    {
     "name": "stdout",
     "output_type": "stream",
     "text": [
      "None\n"
     ]
    }
   ],
   "source": [
    "label = ner.label_count\n"
   ]
  },
  {
   "cell_type": "code",
   "execution_count": 5,
   "metadata": {},
   "outputs": [
    {
     "ename": "AttributeError",
     "evalue": "'NoneType' object has no attribute 'items'",
     "output_type": "error",
     "traceback": [
      "\u001b[1;31m---------------------------------------------------------------------------\u001b[0m",
      "\u001b[1;31mAttributeError\u001b[0m                            Traceback (most recent call last)",
      "\u001b[1;32m<ipython-input-5-fe539bdc13ee>\u001b[0m in \u001b[0;36m<module>\u001b[1;34m\u001b[0m\n\u001b[1;32m----> 1\u001b[1;33m \u001b[0my\u001b[0m \u001b[1;33m=\u001b[0m\u001b[1;33m[\u001b[0m\u001b[0mval\u001b[0m \u001b[1;32mfor\u001b[0m \u001b[0mkey\u001b[0m\u001b[1;33m,\u001b[0m\u001b[0mval\u001b[0m \u001b[1;32min\u001b[0m \u001b[0mlabel\u001b[0m\u001b[1;33m.\u001b[0m\u001b[0mitems\u001b[0m\u001b[1;33m(\u001b[0m\u001b[1;33m)\u001b[0m\u001b[1;33m]\u001b[0m\u001b[1;33m\u001b[0m\u001b[1;33m\u001b[0m\u001b[0m\n\u001b[0m\u001b[0;32m      2\u001b[0m \u001b[0mx\u001b[0m \u001b[1;33m=\u001b[0m \u001b[1;33m[\u001b[0m\u001b[0mkey\u001b[0m \u001b[1;32mfor\u001b[0m \u001b[0mkey\u001b[0m\u001b[1;33m,\u001b[0m\u001b[0mval\u001b[0m \u001b[1;32min\u001b[0m \u001b[0mlabel\u001b[0m\u001b[1;33m.\u001b[0m\u001b[0mitems\u001b[0m\u001b[1;33m(\u001b[0m\u001b[1;33m)\u001b[0m\u001b[1;33m]\u001b[0m\u001b[1;33m\u001b[0m\u001b[1;33m\u001b[0m\u001b[0m\n",
      "\u001b[1;31mAttributeError\u001b[0m: 'NoneType' object has no attribute 'items'"
     ]
    }
   ],
   "source": [
    "y =[val for key,val in label.items()]\n",
    "x = [key for key,val in label.items()]  "
   ]
  },
  {
   "cell_type": "code",
   "execution_count": 6,
   "metadata": {},
   "outputs": [
    {
     "ename": "NameError",
     "evalue": "name 'y' is not defined",
     "output_type": "error",
     "traceback": [
      "\u001b[1;31m---------------------------------------------------------------------------\u001b[0m",
      "\u001b[1;31mNameError\u001b[0m                                 Traceback (most recent call last)",
      "\u001b[1;32m<ipython-input-6-28d72db485d8>\u001b[0m in \u001b[0;36m<module>\u001b[1;34m\u001b[0m\n\u001b[1;32m----> 1\u001b[1;33m \u001b[0mplt\u001b[0m\u001b[1;33m.\u001b[0m\u001b[0mbar\u001b[0m\u001b[1;33m(\u001b[0m\u001b[0my\u001b[0m\u001b[1;33m,\u001b[0m\u001b[0mx\u001b[0m\u001b[1;33m)\u001b[0m\u001b[1;33m\u001b[0m\u001b[1;33m\u001b[0m\u001b[0m\n\u001b[0m\u001b[0;32m      2\u001b[0m \u001b[0mplt\u001b[0m\u001b[1;33m.\u001b[0m\u001b[0mxlabel\u001b[0m\u001b[1;33m(\u001b[0m\u001b[1;34m'Label'\u001b[0m\u001b[1;33m)\u001b[0m\u001b[1;33m\u001b[0m\u001b[1;33m\u001b[0m\u001b[0m\n\u001b[0;32m      3\u001b[0m \u001b[0mplt\u001b[0m\u001b[1;33m.\u001b[0m\u001b[0mylabel\u001b[0m\u001b[1;33m(\u001b[0m\u001b[1;34m'Total Label'\u001b[0m\u001b[1;33m)\u001b[0m\u001b[1;33m\u001b[0m\u001b[1;33m\u001b[0m\u001b[0m\n",
      "\u001b[1;31mNameError\u001b[0m: name 'y' is not defined"
     ]
    }
   ],
   "source": [
    "plt.bar(y,x)\n",
    "plt.xlabel('Label')\n",
    "plt.ylabel('Total Label')"
   ]
  },
  {
   "cell_type": "code",
   "execution_count": null,
   "metadata": {},
   "outputs": [],
   "source": []
  }
 ],
 "metadata": {
  "kernelspec": {
   "display_name": "Python 3",
   "language": "python",
   "name": "python3"
  },
  "language_info": {
   "codemirror_mode": {
    "name": "ipython",
    "version": 3
   },
   "file_extension": ".py",
   "mimetype": "text/x-python",
   "name": "python",
   "nbconvert_exporter": "python",
   "pygments_lexer": "ipython3",
   "version": "3.7.3"
  }
 },
 "nbformat": 4,
 "nbformat_minor": 2
}
